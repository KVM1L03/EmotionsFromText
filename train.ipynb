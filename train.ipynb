{
 "cells": [
  {
   "cell_type": "code",
   "execution_count": 178,
   "metadata": {},
   "outputs": [],
   "source": [
    "import pandas as pd\n",
    "import numpy as np\n",
    "import matplotlib.pyplot as plt\n",
    "import tensorflow as tf\n",
    "import tensorflow_hub as hub\n",
    "from sklearn.preprocessing import LabelEncoder\n",
    "from sklearn.model_selection import train_test_split"
   ]
  },
  {
   "cell_type": "markdown",
   "metadata": {},
   "source": [
    "1. Dataset"
   ]
  },
  {
   "cell_type": "code",
   "execution_count": 179,
   "metadata": {},
   "outputs": [
    {
     "data": {
      "text/html": [
       "<div>\n",
       "<style scoped>\n",
       "    .dataframe tbody tr th:only-of-type {\n",
       "        vertical-align: middle;\n",
       "    }\n",
       "\n",
       "    .dataframe tbody tr th {\n",
       "        vertical-align: top;\n",
       "    }\n",
       "\n",
       "    .dataframe thead th {\n",
       "        text-align: right;\n",
       "    }\n",
       "</style>\n",
       "<table border=\"1\" class=\"dataframe\">\n",
       "  <thead>\n",
       "    <tr style=\"text-align: right;\">\n",
       "      <th></th>\n",
       "      <th>text</th>\n",
       "      <th>Emotion</th>\n",
       "    </tr>\n",
       "  </thead>\n",
       "  <tbody>\n",
       "    <tr>\n",
       "      <th>0</th>\n",
       "      <td>Life is an incredible journey full of adventures!</td>\n",
       "      <td>happy</td>\n",
       "    </tr>\n",
       "    <tr>\n",
       "      <th>1</th>\n",
       "      <td>Every obstacle just fuels my anger more.</td>\n",
       "      <td>angry</td>\n",
       "    </tr>\n",
       "    <tr>\n",
       "      <th>2</th>\n",
       "      <td>Sometimes, the silence of the room feels overw...</td>\n",
       "      <td>sad</td>\n",
       "    </tr>\n",
       "    <tr>\n",
       "      <th>3</th>\n",
       "      <td>I just don't feel strongly about anything today.</td>\n",
       "      <td>neutral</td>\n",
       "    </tr>\n",
       "    <tr>\n",
       "      <th>4</th>\n",
       "      <td>The sun shining through the leaves fills me wi...</td>\n",
       "      <td>happy</td>\n",
       "    </tr>\n",
       "  </tbody>\n",
       "</table>\n",
       "</div>"
      ],
      "text/plain": [
       "                                                text  Emotion\n",
       "0  Life is an incredible journey full of adventures!    happy\n",
       "1           Every obstacle just fuels my anger more.    angry\n",
       "2  Sometimes, the silence of the room feels overw...      sad\n",
       "3   I just don't feel strongly about anything today.  neutral\n",
       "4  The sun shining through the leaves fills me wi...    happy"
      ]
     },
     "execution_count": 179,
     "metadata": {},
     "output_type": "execute_result"
    }
   ],
   "source": [
    "data = pd.read_csv('datasets/emotion_sentimen_dataset.csv', usecols=['text', 'Emotion'])\n",
    "data.head(5)"
   ]
  },
  {
   "cell_type": "code",
   "execution_count": 180,
   "metadata": {},
   "outputs": [
    {
     "data": {
      "text/plain": [
       "(1146, 2)"
      ]
     },
     "execution_count": 180,
     "metadata": {},
     "output_type": "execute_result"
    }
   ],
   "source": [
    "data.shape"
   ]
  },
  {
   "cell_type": "code",
   "execution_count": 181,
   "metadata": {},
   "outputs": [
    {
     "data": {
      "text/html": [
       "<div>\n",
       "<style scoped>\n",
       "    .dataframe tbody tr th:only-of-type {\n",
       "        vertical-align: middle;\n",
       "    }\n",
       "\n",
       "    .dataframe tbody tr th {\n",
       "        vertical-align: top;\n",
       "    }\n",
       "\n",
       "    .dataframe thead th {\n",
       "        text-align: right;\n",
       "    }\n",
       "</style>\n",
       "<table border=\"1\" class=\"dataframe\">\n",
       "  <thead>\n",
       "    <tr style=\"text-align: right;\">\n",
       "      <th></th>\n",
       "      <th>text</th>\n",
       "      <th>Emotion</th>\n",
       "    </tr>\n",
       "  </thead>\n",
       "  <tbody>\n",
       "    <tr>\n",
       "      <th>0</th>\n",
       "      <td>Life is an incredible journey full of adventures!</td>\n",
       "      <td>happy</td>\n",
       "    </tr>\n",
       "    <tr>\n",
       "      <th>1</th>\n",
       "      <td>Every obstacle just fuels my anger more.</td>\n",
       "      <td>angry</td>\n",
       "    </tr>\n",
       "    <tr>\n",
       "      <th>2</th>\n",
       "      <td>Sometimes, the silence of the room feels overw...</td>\n",
       "      <td>sad</td>\n",
       "    </tr>\n",
       "    <tr>\n",
       "      <th>3</th>\n",
       "      <td>I just don't feel strongly about anything today.</td>\n",
       "      <td>neutral</td>\n",
       "    </tr>\n",
       "    <tr>\n",
       "      <th>4</th>\n",
       "      <td>The sun shining through the leaves fills me wi...</td>\n",
       "      <td>happy</td>\n",
       "    </tr>\n",
       "  </tbody>\n",
       "</table>\n",
       "</div>"
      ],
      "text/plain": [
       "                                                text  Emotion\n",
       "0  Life is an incredible journey full of adventures!    happy\n",
       "1           Every obstacle just fuels my anger more.    angry\n",
       "2  Sometimes, the silence of the room feels overw...      sad\n",
       "3   I just don't feel strongly about anything today.  neutral\n",
       "4  The sun shining through the leaves fills me wi...    happy"
      ]
     },
     "execution_count": 181,
     "metadata": {},
     "output_type": "execute_result"
    }
   ],
   "source": [
    "data = data.dropna(subset=['text', \"Emotion\"])\n",
    "data.head()"
   ]
  },
  {
   "cell_type": "code",
   "execution_count": 182,
   "metadata": {},
   "outputs": [
    {
     "data": {
      "image/png": "[encoded data removed]",
      "text/plain": [
       "<Figure size 750x350 with 1 Axes>"
      ]
     },
     "metadata": {},
     "output_type": "display_data"
    }
   ],
   "source": [
    "plt.figure(figsize=(7.5,3.5))  # Increase the figure size\n",
    "plt.hist(data.Emotion, bins=11, rwidth=0.8)\n",
    "plt.xticks(rotation=90) \n",
    "plt.show()"
   ]
  },
  {
   "cell_type": "code",
   "execution_count": 183,
   "metadata": {},
   "outputs": [],
   "source": [
    "\n",
    "train_temp, test = train_test_split(data, test_size=0.2, stratify=data['Emotion'])\n",
    "train, val = train_test_split(train_temp, test_size=0.25, stratify=train_temp['Emotion'])  # 0.25 x 0.8 = 0.2"
   ]
  },
  {
   "cell_type": "code",
   "execution_count": 184,
   "metadata": {},
   "outputs": [
    {
     "data": {
      "image/png": "[encoded data removed]",
      "text/plain": [
       "<Figure size 1000x1500 with 3 Axes>"
      ]
     },
     "metadata": {},
     "output_type": "display_data"
    }
   ],
   "source": [
    "\n",
    "fig, axs = plt.subplots(3, figsize=(10, 15))\n",
    "\n",
    "axs[0].bar(train['Emotion'].value_counts().index, train['Emotion'].value_counts().values)\n",
    "axs[0].set_title('Train set')\n",
    "\n",
    "axs[1].bar(val['Emotion'].value_counts().index, val['Emotion'].value_counts().values)\n",
    "axs[1].set_title('Validation set')\n",
    "\n",
    "axs[2].bar(test['Emotion'].value_counts().index, test['Emotion'].value_counts().values)\n",
    "axs[2].set_title('Test set')\n",
    "\n",
    "for ax in axs:\n",
    "    ax.set_xlabel('Emotion')\n",
    "    ax.set_ylabel('Count')\n",
    "\n",
    "plt.tight_layout()\n",
    "plt.show()"
   ]
  },
  {
   "cell_type": "code",
   "execution_count": 185,
   "metadata": {},
   "outputs": [],
   "source": [
    "def df_to_dataset(dataframe, num_classes, shuffle=True, batch_size=32):\n",
    "    df = dataframe.copy()\n",
    "    labels = df.pop('Emotion')\n",
    "    \n",
    "    encoder = LabelEncoder()\n",
    "    labels = encoder.fit_transform(labels)\n",
    "    \n",
    "    num_classes = len(np.unique(labels))\n",
    "    \n",
    "    labels = tf.keras.utils.to_categorical(labels, num_classes=num_classes) \n",
    "    df = df['text']\n",
    "    ds = tf.data.Dataset.from_tensor_slices((df.values, labels))\n",
    "    if shuffle:\n",
    "        ds = ds.shuffle(buffer_size=len(dataframe))\n",
    "    ds = ds.batch(batch_size)\n",
    "    ds = ds.prefetch(batch_size)\n",
    "    \n",
    "    return ds"
   ]
  },
  {
   "cell_type": "code",
   "execution_count": 186,
   "metadata": {},
   "outputs": [],
   "source": [
    "train_data = df_to_dataset(train, num_classes=4)\n",
    "val_data = df_to_dataset(val, num_classes=4)\n",
    "test_data = df_to_dataset(test, num_classes=4) "
   ]
  },
  {
   "cell_type": "code",
   "execution_count": 187,
   "metadata": {},
   "outputs": [
    {
     "name": "stdout",
     "output_type": "stream",
     "text": [
      "['angry' 'neutral' 'happy' 'sad']\n"
     ]
    }
   ],
   "source": [
    "labels = train['Emotion'].unique()\n",
    "print(labels)\n",
    "num_classes = len(labels)\n"
   ]
  },
  {
   "cell_type": "markdown",
   "metadata": {},
   "source": [
    "2. Model"
   ]
  },
  {
   "cell_type": "code",
   "execution_count": 188,
   "metadata": {},
   "outputs": [],
   "source": [
    "hub_layer = hub.KerasLayer(\"https://tfhub.dev/google/tf2-preview/gnews-swivel-20dim/1\", output_shape=[20],\n",
    "                        input_shape=[], dtype=tf.string, trainable=True)\n",
    "\n",
    "num_classes = len(np.unique(labels))\n",
    "\n",
    "model = tf.keras.Sequential()\n",
    "model.add(hub_layer)\n",
    "model.add(tf.keras.layers.Dense(16, activation='relu'))\n",
    "model.add(tf.keras.layers.Dense(16, activation='relu'))\n",
    "model.add(tf.keras.layers.Dense(num_classes, activation='softmax'))  # Use softmax for multi-class classification\n",
    "\n",
    "model.compile(optimizer='adam',\n",
    "            loss=tf.keras.losses.CategoricalCrossentropy(from_logits=False),  # Use CategoricalCrossentropy for multi-class classification\n",
    "            metrics=['accuracy'])"
   ]
  },
  {
   "cell_type": "code",
   "execution_count": 189,
   "metadata": {},
   "outputs": [
    {
     "name": "stdout",
     "output_type": "stream",
     "text": [
      "22/22 [==============================] - 0s 3ms/step - loss: 1.3418 - accuracy: 0.4178\n"
     ]
    },
    {
     "data": {
      "text/plain": [
       "[1.3417575359344482, 0.41775837540626526]"
      ]
     },
     "execution_count": 189,
     "metadata": {},
     "output_type": "execute_result"
    }
   ],
   "source": [
    "model.evaluate(train_data)"
   ]
  },
  {
   "cell_type": "code",
   "execution_count": 190,
   "metadata": {},
   "outputs": [
    {
     "name": "stdout",
     "output_type": "stream",
     "text": [
      "8/8 [==============================] - 0s 2ms/step - loss: 1.3409 - accuracy: 0.4192\n"
     ]
    },
    {
     "data": {
      "text/plain": [
       "[1.3409405946731567, 0.4192139804363251]"
      ]
     },
     "execution_count": 190,
     "metadata": {},
     "output_type": "execute_result"
    }
   ],
   "source": [
    "model.evaluate(val_data)"
   ]
  },
  {
   "cell_type": "code",
   "execution_count": 191,
   "metadata": {},
   "outputs": [
    {
     "name": "stdout",
     "output_type": "stream",
     "text": [
      "Epoch 1/5\n"
     ]
    },
    {
     "name": "stdout",
     "output_type": "stream",
     "text": [
      "22/22 [==============================] - 1s 16ms/step - loss: 1.2512 - accuracy: 0.4731 - val_loss: 1.1602 - val_accuracy: 0.6507\n",
      "Epoch 2/5\n",
      "22/22 [==============================] - 0s 13ms/step - loss: 1.0732 - accuracy: 0.7438 - val_loss: 1.0025 - val_accuracy: 0.7467\n",
      "Epoch 3/5\n",
      "22/22 [==============================] - 0s 15ms/step - loss: 0.9064 - accuracy: 0.7758 - val_loss: 0.8419 - val_accuracy: 0.7642\n",
      "Epoch 4/5\n",
      "22/22 [==============================] - 0s 16ms/step - loss: 0.7408 - accuracy: 0.8064 - val_loss: 0.6969 - val_accuracy: 0.8603\n",
      "Epoch 5/5\n",
      "22/22 [==============================] - 0s 15ms/step - loss: 0.5929 - accuracy: 0.8996 - val_loss: 0.5699 - val_accuracy: 0.8646\n"
     ]
    }
   ],
   "source": [
    "history = model.fit(train_data, epochs=5, validation_data=val_data)\n"
   ]
  },
  {
   "cell_type": "code",
   "execution_count": 192,
   "metadata": {},
   "outputs": [
    {
     "name": "stdout",
     "output_type": "stream",
     "text": [
      "8/8 [==============================] - 0s 4ms/step - loss: 0.5637 - accuracy: 0.8478\n"
     ]
    },
    {
     "data": {
      "text/plain": [
       "[0.5636695027351379, 0.8478260636329651]"
      ]
     },
     "execution_count": 192,
     "metadata": {},
     "output_type": "execute_result"
    }
   ],
   "source": [
    "model.evaluate(test_data)"
   ]
  },
  {
   "cell_type": "code",
   "execution_count": 193,
   "metadata": {},
   "outputs": [
    {
     "data": {
      "image/png": "[encoded data removed]",
      "text/plain": [
       "<Figure size 640x480 with 1 Axes>"
      ]
     },
     "metadata": {},
     "output_type": "display_data"
    }
   ],
   "source": [
    "plt.plot(history.history['accuracy'], label='accuracy')\n",
    "plt.plot(history.history['val_accuracy'], label = 'val_accuracy')\n",
    "plt.title('Model accuracy')\n",
    "plt.ylabel('Accuracy')\n",
    "plt.xlabel('Epoch')\n",
    "plt.legend()\n",
    "plt.show()"
   ]
  },
  {
   "cell_type": "code",
   "execution_count": 195,
   "metadata": {},
   "outputs": [
    {
     "name": "stdout",
     "output_type": "stream",
     "text": [
      "22/22 [==============================] - 3s 4ms/step - loss: 1.3848 - accuracy: 0.2911\n",
      "8/8 [==============================] - 0s 4ms/step - loss: 1.3851 - accuracy: 0.2838\n",
      "Epoch 1/5\n",
      "22/22 [==============================] - 5s 10ms/step - loss: 1.3600 - accuracy: 0.3333 - val_loss: 1.3121 - val_accuracy: 0.5502\n",
      "Epoch 2/5\n",
      "22/22 [==============================] - 0s 10ms/step - loss: 1.1714 - accuracy: 0.7001 - val_loss: 0.9543 - val_accuracy: 0.8384\n",
      "Epoch 3/5\n",
      "22/22 [==============================] - 0s 10ms/step - loss: 0.7625 - accuracy: 0.8574 - val_loss: 0.6369 - val_accuracy: 0.8908\n",
      "Epoch 4/5\n",
      "22/22 [==============================] - 0s 10ms/step - loss: 0.4581 - accuracy: 0.9549 - val_loss: 0.3444 - val_accuracy: 0.9258\n",
      "Epoch 5/5\n",
      "22/22 [==============================] - 0s 10ms/step - loss: 0.1739 - accuracy: 0.9854 - val_loss: 0.2049 - val_accuracy: 0.9389\n",
      "8/8 [==============================] - 0s 4ms/step - loss: 0.1184 - accuracy: 0.9652\n"
     ]
    }
   ],
   "source": [
    "encoder = tf.keras.layers.TextVectorization(max_tokens=2000)\n",
    "encoder.adapt(train_data.map(lambda text, label: text))\n",
    "\n",
    "model = tf.keras.Sequential([\n",
    "    encoder,\n",
    "    tf.keras.layers.Embedding(\n",
    "        input_dim=len(encoder.get_vocabulary()),\n",
    "        output_dim=32,\n",
    "        mask_zero=True\n",
    "    ),\n",
    "    tf.keras.layers.LSTM(32),\n",
    "    tf.keras.layers.Dense(32, activation='relu'),\n",
    "    tf.keras.layers.Dropout(0.4),\n",
    "    tf.keras.layers.Dense(4, activation='softmax')\n",
    "])\n",
    "\n",
    "model.compile(optimizer=tf.keras.optimizers.Adam(learning_rate=0.001),\n",
    "            loss=tf.keras.losses.CategoricalCrossentropy(), \n",
    "            metrics=['accuracy'])\n",
    "\n",
    "\n",
    "model.evaluate(train_data)\n",
    "\n",
    "\n",
    "model.evaluate(val_data)\n",
    "\n",
    "\n",
    "history = model.fit(train_data, epochs=5, validation_data=val_data)\n",
    "\n",
    "\n",
    "model.evaluate(test_data)\n",
    "\n",
    "\n",
    "model.save('Models/emotions3.keras')"
   ]
  },
  {
   "cell_type": "markdown",
   "metadata": {},
   "source": [
    "3. Testing"
   ]
  },
  {
   "cell_type": "code",
   "execution_count": 196,
   "metadata": {},
   "outputs": [],
   "source": [
    "encoder = tf.keras.layers.TextVectorization(max_tokens=2000)\n",
    "encoder.adapt(train_data.map(lambda text, label: text))"
   ]
  },
  {
   "cell_type": "code",
   "execution_count": 197,
   "metadata": {},
   "outputs": [],
   "source": [
    "model = tf.keras.models.load_model('Models/emotions3.keras')"
   ]
  },
  {
   "cell_type": "code",
   "execution_count": 198,
   "metadata": {},
   "outputs": [],
   "source": [
    "import string\n",
    "\n",
    "def preprocess_text(text):\n",
    "    text = text.lower()\n",
    "\n",
    "    text = text.translate(str.maketrans('', '', string.punctuation))\n",
    "\n",
    "    return text"
   ]
  },
  {
   "cell_type": "code",
   "execution_count": 200,
   "metadata": {},
   "outputs": [
    {
     "name": "stdout",
     "output_type": "stream",
     "text": [
      "1/1 [==============================] - 0s 34ms/step\n",
      "happy\n"
     ]
    }
   ],
   "source": [
    "def predict_label(text):\n",
    "    text = preprocess_text(text)\n",
    "\n",
    "    text = tf.constant([text])  \n",
    "\n",
    "    prediction = model.predict(text) \n",
    "\n",
    "    predicted_index = np.argmax(prediction[0])\n",
    "\n",
    "    return predicted_index\n",
    "\n",
    "text = \"i am so happy for you\"\n",
    "print(labels[predict_label(text)])"
   ]
  }
 ],
 "metadata": {
  "kernelspec": {
   "display_name": "Python 3",
   "language": "python",
   "name": "python3"
  },
  "language_info": {
   "codemirror_mode": {
    "name": "ipython",
    "version": 3
   },
   "file_extension": ".py",
   "mimetype": "text/x-python",
   "name": "python",
   "nbconvert_exporter": "python",
   "pygments_lexer": "ipython3",
   "version": "3.8.2"
  }
 },
 "nbformat": 4,
 "nbformat_minor": 2
}
